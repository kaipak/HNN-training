{
 "cells": [
  {
   "cell_type": "markdown",
   "metadata": {},
   "source": [
    "# 7: Ensemble Learning and Random Forests\n",
    "1. Five different models with 95% accuracy. If models do not consistently get same wrong results, this can result in a better model than any of the individual ones.\n",
    "1. Hard voting means every model gets the same proportionality of vote as every other model, whereas soft voting means some weight is given to models that are more confident about an outcome.\n",
    "1. Yes, in general, all ensemble methods scale extremely well across procs and machines.\n",
    "1. OOB is like a free validation test.\n",
    "1. Extra randomness is achieved in Extra-Trees by not ensuring \"best\" splits--instead, this step is randomized. It is also computationally less intensive since this is the most expensive part for RF. \n",
    "1. With AdaBoost, altering learning rate will drastically affect under/over fitting\n",
    "1. Decrease learning rate to prevent over fitting"
   ]
  },
  {
   "cell_type": "markdown",
   "metadata": {},
   "source": [
    "## MNIST Ensemble Classification"
   ]
  },
  {
   "cell_type": "code",
   "execution_count": 1,
   "metadata": {},
   "outputs": [],
   "source": [
    "%load_ext autoreload\n",
    "%autoreload 2\n",
    "%matplotlib inline"
   ]
  },
  {
   "cell_type": "code",
   "execution_count": 2,
   "metadata": {},
   "outputs": [],
   "source": [
    "import sys\n",
    "import os\n",
    "\n",
    "import pandas as pd\n",
    "import numpy as np\n",
    "import matplotlib.pyplot as plt\n",
    "import seaborn as sns\n",
    "from sklearn.datasets import fetch_openml"
   ]
  },
  {
   "cell_type": "code",
   "execution_count": null,
   "metadata": {},
   "outputs": [],
   "source": []
  }
 ],
 "metadata": {
  "kernelspec": {
   "display_name": "Kai Python3.8",
   "language": "python",
   "name": "python_custom"
  },
  "language_info": {
   "codemirror_mode": {
    "name": "ipython",
    "version": 3
   },
   "file_extension": ".py",
   "mimetype": "text/x-python",
   "name": "python",
   "nbconvert_exporter": "python",
   "pygments_lexer": "ipython3",
   "version": "3.8.3"
  }
 },
 "nbformat": 4,
 "nbformat_minor": 4
}
