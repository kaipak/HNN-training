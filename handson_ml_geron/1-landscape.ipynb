{
 "cells": [
  {
   "cell_type": "markdown",
   "metadata": {},
   "source": [
    "### 1. How would you define Machine Learning?\n",
    "A type of computer programming where rather being given precise and explicit instructions on how to solve a given problem, the computer is given a set of general behaviors based on the data's statistical properties. From there, the program is able to self correct and tune itself through a series of training where the computer learns from examples. \n",
    "\n",
    "### 2. Name four types of problems where it shines?\n",
    "1. Solving for a system that has a lot of complex rules\n",
    "2. Complex problems where traditional methods fail\n",
    "3. Fluctuating environment\n",
    "4. Getting insights about complex problems with large amounts of data\n",
    "\n",
    "### 3. What is a labeled training set?\n",
    "It is the data set the ML algorithm uses to learn from and adjust its parameters to fit.\n",
    "\n",
    "### 4. What are the two most common supervised tasks?\n",
    "1. Classification\n",
    "2. Regression \n",
    "\n",
    "### 5. 4 common unsupervised tasks?\n",
    "1. Clustering\n",
    "2. Anomaly detection\n",
    "3. Dim reduction\n",
    "4. Association rule learning\n",
    "\n",
    "### 6. Robot to walk in various terrain?\n",
    "- Need computer vision algorithms to determine terrain. Neural network perhaps.\n",
    "- GaN or other reinforcement learning for learning how to walk or physically traverse terrain.\n",
    "\n",
    "..."
   ]
  },
  {
   "cell_type": "code",
   "execution_count": null,
   "metadata": {},
   "outputs": [],
   "source": []
  }
 ],
 "metadata": {
  "kernelspec": {
   "display_name": "Python 3",
   "language": "python",
   "name": "python3"
  },
  "language_info": {
   "codemirror_mode": {
    "name": "ipython",
    "version": 3
   },
   "file_extension": ".py",
   "mimetype": "text/x-python",
   "name": "python",
   "nbconvert_exporter": "python",
   "pygments_lexer": "ipython3",
   "version": "3.7.3"
  }
 },
 "nbformat": 4,
 "nbformat_minor": 4
}
